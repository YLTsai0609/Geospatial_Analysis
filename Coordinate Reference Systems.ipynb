{
 "cells": [
  {
   "cell_type": "markdown",
   "metadata": {},
   "source": [
    "**[Geospatial Analysis Home Page](https://www.kaggle.com/learn/geospatial-analysis)**\n",
    "\n",
    "---\n"
   ]
  },
  {
   "cell_type": "markdown",
   "metadata": {},
   "source": [
    "# Introduction\n",
    "\n",
    "You are a bird conservation expert and want to understand migration patterns of purple martins.  In your research, you discover that these birds typically spend the summer breeding season in the eastern United States, and then migrate to South America for the winter.  But since this bird is under threat of endangerment, you'd like to take a closer look at the locations that these birds are more likely to visit.\n",
    "\n",
    "<center>\n",
    "<img src=\"https://i.imgur.com/qQcS0KM.png\" width=\"1000\"><br/>\n",
    "</center>\n",
    "\n",
    "There are several [protected areas](https://www.iucn.org/theme/protected-areas/about) in South America, which operate under special regulations to ensure that species that migrate (or live) there have the best opportunity to thrive.  You'd like to know if purple martins tend to visit these areas.  To answer this question, you'll use some recently collected data that tracks the year-round location of eleven different birds.\n",
    "\n",
    "Before you get started, run the code cell below to set everything up."
   ]
  },
  {
   "cell_type": "markdown",
   "metadata": {},
   "source": [
    "關於地圖投影法 \n",
    "動機 : 地圖投影是2D的，但地球是3D的，換句話說，2D投影會有一些誤導\n",
    "因此有各式各樣的投影法\n",
    "兩個最常用的 : \n",
    "1. 等面積投影(equal-area projection)，當你需要計算某個效應的影響面積，或是某個城市的面積，這會很有用\n",
    "2. 等距離投影(equidistant projections，舉例 方位角等距投影(Azimuthal Equidistant projection\"))，當你需要計算例如航線距離，A點到B點的球面距離，但你擁有的是地圖數據時，這會很有用\n",
    "\n",
    "各種投影法的集合被稱為座標參考系統(coordinate reference system, CRS)"
   ]
  },
  {
   "cell_type": "code",
   "execution_count": 74,
   "metadata": {},
   "outputs": [],
   "source": [
    "import pandas as pd\n",
    "import geopandas as gpd\n",
    "\n",
    "from shapely.geometry import LineString\n",
    "\n",
    "from learntools.core import binder\n",
    "binder.bind(globals())\n",
    "from learntools.geospatial.ex2 import *"
   ]
  },
  {
   "cell_type": "markdown",
   "metadata": {},
   "source": [
    "# Exercises\n",
    "\n",
    "### 1) Load the data.\n",
    "\n",
    "Run the next code cell (without changes) to load the GPS data into a pandas DataFrame `birds_df`.  "
   ]
  },
  {
   "cell_type": "code",
   "execution_count": 75,
   "metadata": {},
   "outputs": [
    {
     "name": "stdout",
     "output_type": "stream",
     "text": [
      "There are 11 different birds in the dataset.\n"
     ]
    },
    {
     "data": {
      "text/html": [
       "<div>\n",
       "<style scoped>\n",
       "    .dataframe tbody tr th:only-of-type {\n",
       "        vertical-align: middle;\n",
       "    }\n",
       "\n",
       "    .dataframe tbody tr th {\n",
       "        vertical-align: top;\n",
       "    }\n",
       "\n",
       "    .dataframe thead th {\n",
       "        text-align: right;\n",
       "    }\n",
       "</style>\n",
       "<table border=\"1\" class=\"dataframe\">\n",
       "  <thead>\n",
       "    <tr style=\"text-align: right;\">\n",
       "      <th></th>\n",
       "      <th>timestamp</th>\n",
       "      <th>location-long</th>\n",
       "      <th>location-lat</th>\n",
       "      <th>tag-local-identifier</th>\n",
       "    </tr>\n",
       "  </thead>\n",
       "  <tbody>\n",
       "    <tr>\n",
       "      <td>0</td>\n",
       "      <td>2014-08-15 05:56:00</td>\n",
       "      <td>-88.146014</td>\n",
       "      <td>17.513049</td>\n",
       "      <td>30448</td>\n",
       "    </tr>\n",
       "    <tr>\n",
       "      <td>1</td>\n",
       "      <td>2014-09-01 05:59:00</td>\n",
       "      <td>-85.243501</td>\n",
       "      <td>13.095782</td>\n",
       "      <td>30448</td>\n",
       "    </tr>\n",
       "    <tr>\n",
       "      <td>2</td>\n",
       "      <td>2014-10-30 23:58:00</td>\n",
       "      <td>-62.906089</td>\n",
       "      <td>-7.852436</td>\n",
       "      <td>30448</td>\n",
       "    </tr>\n",
       "    <tr>\n",
       "      <td>3</td>\n",
       "      <td>2014-11-15 04:59:00</td>\n",
       "      <td>-61.776826</td>\n",
       "      <td>-11.723898</td>\n",
       "      <td>30448</td>\n",
       "    </tr>\n",
       "    <tr>\n",
       "      <td>4</td>\n",
       "      <td>2014-11-30 09:59:00</td>\n",
       "      <td>-61.241538</td>\n",
       "      <td>-11.612237</td>\n",
       "      <td>30448</td>\n",
       "    </tr>\n",
       "  </tbody>\n",
       "</table>\n",
       "</div>"
      ],
      "text/plain": [
       "            timestamp  location-long  location-lat  tag-local-identifier\n",
       "0 2014-08-15 05:56:00     -88.146014     17.513049                 30448\n",
       "1 2014-09-01 05:59:00     -85.243501     13.095782                 30448\n",
       "2 2014-10-30 23:58:00     -62.906089     -7.852436                 30448\n",
       "3 2014-11-15 04:59:00     -61.776826    -11.723898                 30448\n",
       "4 2014-11-30 09:59:00     -61.241538    -11.612237                 30448"
      ]
     },
     "execution_count": 75,
     "metadata": {},
     "output_type": "execute_result"
    }
   ],
   "source": [
    "# Load the data and print the first 5 rows\n",
    "birds_df = pd.read_csv(\"../input/geospatial-learn-course-data/purple_martin.csv\", parse_dates=['timestamp'])\n",
    "print(\"There are {} different birds in the dataset.\".format(birds_df[\"tag-local-identifier\"].nunique()))\n",
    "birds_df.head()"
   ]
  },
  {
   "cell_type": "markdown",
   "metadata": {},
   "source": [
    "There are 11 birds in the dataset, where each bird is identified by a unique value in the \"tag-local-identifier\" column.  Each bird has several measurements, collected at different times of the year.\n",
    "\n",
    "Use the next code cell to create a GeoDataFrame `birds`.  \n",
    "- `birds` should have all of the columns from `birds_df`, along with a \"geometry\" column that contains Point objects with (longitude, latitude) locations.  \n",
    "- Set the CRS of `birds` to `{'init': 'epsg:4326'}`."
   ]
  },
  {
   "cell_type": "markdown",
   "metadata": {},
   "source": [
    "GeoDataFrame中有一個屬性被稱為crs，指的就是這個GeoDataFrame使用的crs為哪一個投影法，各種投影法可以在 European Petroleum Survey Group (EPSG)查到，\n",
    "最常用的是麥卡托投影法(Mercator projection)，這個投影法保證角度一定是和原本3D地球一樣，在航海定位時非常有用，而且扭曲地圖的程度也較低，其編號為(init : 'epsg:32630')"
   ]
  },
  {
   "cell_type": "code",
   "execution_count": 76,
   "metadata": {},
   "outputs": [
    {
     "data": {
      "application/javascript": [
       "parent.postMessage({\"jupyterEvent\": \"custom.exercise_interaction\", \"data\": {\"outcomeType\": 1, \"valueTowardsCompletion\": 0.125, \"interactionType\": 1, \"questionType\": 1, \"learnTutorialId\": 275, \"questionId\": \"1_Q1\", \"learnToolsVersion\": \"0.3.2\", \"failureMessage\": \"\", \"exceptionClass\": \"\", \"trace\": \"\"}}, \"*\")"
      ],
      "text/plain": [
       "<IPython.core.display.Javascript object>"
      ]
     },
     "metadata": {},
     "output_type": "display_data"
    },
    {
     "data": {
      "text/markdown": [
       "<span style=\"color:#33cc33\">Correct</span>"
      ],
      "text/plain": [
       "Correct"
      ]
     },
     "metadata": {},
     "output_type": "display_data"
    }
   ],
   "source": [
    "# Your code here: Create the GeoDataFrame\n",
    "birds = gpd.GeoDataFrame(birds_df, \n",
    "                         geometry=gpd.points_from_xy(\n",
    "                         birds_df['location-long'],\n",
    "                         birds_df['location-lat']))\n",
    "\n",
    "# Your code here: Set the CRS to {'init': 'epsg:4326'}\n",
    "birds.crs = {'init':'epsg:4326'}\n",
    "\n",
    "# Check your answer\n",
    "q_1.check()"
   ]
  },
  {
   "cell_type": "code",
   "execution_count": 77,
   "metadata": {},
   "outputs": [
    {
     "data": {
      "text/html": [
       "<div>\n",
       "<style scoped>\n",
       "    .dataframe tbody tr th:only-of-type {\n",
       "        vertical-align: middle;\n",
       "    }\n",
       "\n",
       "    .dataframe tbody tr th {\n",
       "        vertical-align: top;\n",
       "    }\n",
       "\n",
       "    .dataframe thead th {\n",
       "        text-align: right;\n",
       "    }\n",
       "</style>\n",
       "<table border=\"1\" class=\"dataframe\">\n",
       "  <thead>\n",
       "    <tr style=\"text-align: right;\">\n",
       "      <th></th>\n",
       "      <th>timestamp</th>\n",
       "      <th>location-long</th>\n",
       "      <th>location-lat</th>\n",
       "      <th>tag-local-identifier</th>\n",
       "      <th>geometry</th>\n",
       "    </tr>\n",
       "  </thead>\n",
       "  <tbody>\n",
       "    <tr>\n",
       "      <td>0</td>\n",
       "      <td>2014-08-15 05:56:00</td>\n",
       "      <td>-88.146014</td>\n",
       "      <td>17.513049</td>\n",
       "      <td>30448</td>\n",
       "      <td>POINT (-88.14601429999998 17.5130487)</td>\n",
       "    </tr>\n",
       "    <tr>\n",
       "      <td>1</td>\n",
       "      <td>2014-09-01 05:59:00</td>\n",
       "      <td>-85.243501</td>\n",
       "      <td>13.095782</td>\n",
       "      <td>30448</td>\n",
       "      <td>POINT (-85.24350059999998 13.0957817)</td>\n",
       "    </tr>\n",
       "    <tr>\n",
       "      <td>2</td>\n",
       "      <td>2014-10-30 23:58:00</td>\n",
       "      <td>-62.906089</td>\n",
       "      <td>-7.852436</td>\n",
       "      <td>30448</td>\n",
       "      <td>POINT (-62.9060891 -7.852436099999998)</td>\n",
       "    </tr>\n",
       "    <tr>\n",
       "      <td>3</td>\n",
       "      <td>2014-11-15 04:59:00</td>\n",
       "      <td>-61.776826</td>\n",
       "      <td>-11.723898</td>\n",
       "      <td>30448</td>\n",
       "      <td>POINT (-61.77682579999999 -11.7238981)</td>\n",
       "    </tr>\n",
       "    <tr>\n",
       "      <td>4</td>\n",
       "      <td>2014-11-30 09:59:00</td>\n",
       "      <td>-61.241538</td>\n",
       "      <td>-11.612237</td>\n",
       "      <td>30448</td>\n",
       "      <td>POINT (-61.2415383 -11.6122369)</td>\n",
       "    </tr>\n",
       "  </tbody>\n",
       "</table>\n",
       "</div>"
      ],
      "text/plain": [
       "            timestamp  location-long  location-lat  tag-local-identifier  \\\n",
       "0 2014-08-15 05:56:00     -88.146014     17.513049                 30448   \n",
       "1 2014-09-01 05:59:00     -85.243501     13.095782                 30448   \n",
       "2 2014-10-30 23:58:00     -62.906089     -7.852436                 30448   \n",
       "3 2014-11-15 04:59:00     -61.776826    -11.723898                 30448   \n",
       "4 2014-11-30 09:59:00     -61.241538    -11.612237                 30448   \n",
       "\n",
       "                                 geometry  \n",
       "0   POINT (-88.14601429999998 17.5130487)  \n",
       "1   POINT (-85.24350059999998 13.0957817)  \n",
       "2  POINT (-62.9060891 -7.852436099999998)  \n",
       "3  POINT (-61.77682579999999 -11.7238981)  \n",
       "4         POINT (-61.2415383 -11.6122369)  "
      ]
     },
     "metadata": {},
     "output_type": "display_data"
    },
    {
     "data": {
      "text/plain": [
       "{'init': 'epsg:4326'}"
      ]
     },
     "metadata": {},
     "output_type": "display_data"
    }
   ],
   "source": [
    "display(birds.head(),\n",
    "       birds.crs)"
   ]
  },
  {
   "cell_type": "code",
   "execution_count": 78,
   "metadata": {},
   "outputs": [],
   "source": [
    "# Lines below will give you a hint or solution code\n",
    "#q_1.hint()\n",
    "#q_1.solution()"
   ]
  },
  {
   "cell_type": "markdown",
   "metadata": {},
   "source": [
    "### 2) Plot the data.\n",
    "\n",
    "Next, we load in the `'naturalearth_lowres'` dataset from GeoPandas, and set `americas` to a GeoDataFrame containing the boundaries of all countries in the Americas (both North and South America).  Run the next code cell without changes."
   ]
  },
  {
   "cell_type": "markdown",
   "metadata": {},
   "source": [
    "* 當我們在畫地圖時，投影方式很重要，一定要加入確認項目，避免一些不必要的bug\n",
    "* 而修正投影方式的\"方法\" `to_crs` 使用方式 : GeoDataFrame.to_crs(epsg=77665)，只會修改`geometry` 這個 column\n",
    "* 如果想要使用的編碼方式再GeoPandas中沒有，我們可以使用CRS的proj4字符串\n",
    "`+proj=longlat +ellps=WGS84 +datum=WGS84 +no_defs`"
   ]
  },
  {
   "cell_type": "code",
   "execution_count": 79,
   "metadata": {
    "lines_to_next_cell": 2
   },
   "outputs": [
    {
     "data": {
      "text/html": [
       "<div>\n",
       "<style scoped>\n",
       "    .dataframe tbody tr th:only-of-type {\n",
       "        vertical-align: middle;\n",
       "    }\n",
       "\n",
       "    .dataframe tbody tr th {\n",
       "        vertical-align: top;\n",
       "    }\n",
       "\n",
       "    .dataframe thead th {\n",
       "        text-align: right;\n",
       "    }\n",
       "</style>\n",
       "<table border=\"1\" class=\"dataframe\">\n",
       "  <thead>\n",
       "    <tr style=\"text-align: right;\">\n",
       "      <th></th>\n",
       "      <th>pop_est</th>\n",
       "      <th>continent</th>\n",
       "      <th>name</th>\n",
       "      <th>iso_a3</th>\n",
       "      <th>gdp_md_est</th>\n",
       "      <th>geometry</th>\n",
       "    </tr>\n",
       "  </thead>\n",
       "  <tbody>\n",
       "    <tr>\n",
       "      <td>3</td>\n",
       "      <td>35623680</td>\n",
       "      <td>North America</td>\n",
       "      <td>Canada</td>\n",
       "      <td>CAN</td>\n",
       "      <td>1674000.0</td>\n",
       "      <td>(POLYGON ((-122.84 49.00000000000011, -122.974...</td>\n",
       "    </tr>\n",
       "    <tr>\n",
       "      <td>4</td>\n",
       "      <td>326625791</td>\n",
       "      <td>North America</td>\n",
       "      <td>United States of America</td>\n",
       "      <td>USA</td>\n",
       "      <td>18560000.0</td>\n",
       "      <td>(POLYGON ((-122.84 49.00000000000011, -120 49....</td>\n",
       "    </tr>\n",
       "    <tr>\n",
       "      <td>9</td>\n",
       "      <td>44293293</td>\n",
       "      <td>South America</td>\n",
       "      <td>Argentina</td>\n",
       "      <td>ARG</td>\n",
       "      <td>879400.0</td>\n",
       "      <td>(POLYGON ((-68.63401022758323 -52.636370458874...</td>\n",
       "    </tr>\n",
       "    <tr>\n",
       "      <td>10</td>\n",
       "      <td>17789267</td>\n",
       "      <td>South America</td>\n",
       "      <td>Chile</td>\n",
       "      <td>CHL</td>\n",
       "      <td>436100.0</td>\n",
       "      <td>(POLYGON ((-68.63401022758323 -52.636370458874...</td>\n",
       "    </tr>\n",
       "    <tr>\n",
       "      <td>16</td>\n",
       "      <td>10646714</td>\n",
       "      <td>North America</td>\n",
       "      <td>Haiti</td>\n",
       "      <td>HTI</td>\n",
       "      <td>19340.0</td>\n",
       "      <td>POLYGON ((-71.71236141629296 19.71445587816736...</td>\n",
       "    </tr>\n",
       "  </tbody>\n",
       "</table>\n",
       "</div>"
      ],
      "text/plain": [
       "      pop_est      continent                      name iso_a3  gdp_md_est  \\\n",
       "3    35623680  North America                    Canada    CAN   1674000.0   \n",
       "4   326625791  North America  United States of America    USA  18560000.0   \n",
       "9    44293293  South America                 Argentina    ARG    879400.0   \n",
       "10   17789267  South America                     Chile    CHL    436100.0   \n",
       "16   10646714  North America                     Haiti    HTI     19340.0   \n",
       "\n",
       "                                             geometry  \n",
       "3   (POLYGON ((-122.84 49.00000000000011, -122.974...  \n",
       "4   (POLYGON ((-122.84 49.00000000000011, -120 49....  \n",
       "9   (POLYGON ((-68.63401022758323 -52.636370458874...  \n",
       "10  (POLYGON ((-68.63401022758323 -52.636370458874...  \n",
       "16  POLYGON ((-71.71236141629296 19.71445587816736...  "
      ]
     },
     "metadata": {},
     "output_type": "display_data"
    },
    {
     "data": {
      "text/plain": [
       "{'init': 'epsg:4326'}"
      ]
     },
     "metadata": {},
     "output_type": "display_data"
    }
   ],
   "source": [
    "# Load a GeoDataFrame with country boundaries in North/South America, print the first 5 rows\n",
    "world = gpd.read_file(gpd.datasets.get_path('naturalearth_lowres'))\n",
    "americas = world.loc[world['continent'].isin(['North America', 'South America'])]\n",
    "display(americas.head(),\n",
    "       americas.crs)"
   ]
  },
  {
   "cell_type": "markdown",
   "metadata": {},
   "source": [
    "Use the next code cell to create a single plot that shows both: (1) the country boundaries in the `americas` GeoDataFrame, and (2) all of the points in the `birds_gdf` GeoDataFrame.  \n",
    "\n",
    "Don't worry about any special styling here; just create a preliminary plot, as a quick sanity check that all of the data was loaded properly.  In particular, you don't have to worry about color-coding the points to differentiate between birds, and you don't have to differentiate starting points from ending points.  We'll do that in the next part of the exercise."
   ]
  },
  {
   "cell_type": "code",
   "execution_count": 80,
   "metadata": {},
   "outputs": [
    {
     "data": {
      "text/plain": [
       "<matplotlib.axes._subplots.AxesSubplot at 0x7fdfe70f9748>"
      ]
     },
     "execution_count": 80,
     "metadata": {},
     "output_type": "execute_result"
    },
    {
     "data": {
      "image/png": "[encoded data removed]",
      "text/plain": [
       "<Figure size 576x576 with 1 Axes>"
      ]
     },
     "metadata": {
      "needs_background": "light"
     },
     "output_type": "display_data"
    }
   ],
   "source": [
    "# Your code here\n",
    "# world\n",
    "ax = americas.plot(figsize=(8,8), color='whitesmoke', linestyle='--', edgecolor='black')\n",
    "# birds\n",
    "birds.plot(markersize=3, ax=ax)\n",
    "\n",
    "# Uncomment to see a hint\n",
    "#q_2.hint()"
   ]
  },
  {
   "cell_type": "code",
   "execution_count": 81,
   "metadata": {},
   "outputs": [
    {
     "data": {
      "text/plain": [
       "<matplotlib.axes._subplots.AxesSubplot at 0x7fdfe732a748>"
      ]
     },
     "execution_count": 81,
     "metadata": {},
     "output_type": "execute_result"
    },
    {
     "data": {
      "image/png": "[encoded data removed]",
      "text/plain": [
       "<Figure size 576x576 with 1 Axes>"
      ]
     },
     "metadata": {
      "needs_background": "light"
     },
     "output_type": "display_data"
    }
   ],
   "source": [
    "# try different projection\n",
    "PROJECTION_CODE = 32630\n",
    "ax2 = americas.to_crs(epsg=PROJECTION_CODE).plot(figsize=(8,8), color='whitesmoke', linestyle='--', edgecolor='black')\n",
    "birds.to_crs(epsg=32630).plot(markersize=3, ax=ax2)\n",
    "# just awful result, see?"
   ]
  },
  {
   "cell_type": "code",
   "execution_count": 82,
   "metadata": {},
   "outputs": [
    {
     "data": {
      "application/javascript": [
       "parent.postMessage({\"jupyterEvent\": \"custom.exercise_interaction\", \"data\": {\"outcomeType\": 1, \"valueTowardsCompletion\": 0.125, \"interactionType\": 1, \"questionType\": 2, \"learnTutorialId\": 275, \"questionId\": \"2_Q2\", \"learnToolsVersion\": \"0.3.2\", \"failureMessage\": \"\", \"exceptionClass\": \"\", \"trace\": \"\"}}, \"*\")"
      ],
      "text/plain": [
       "<IPython.core.display.Javascript object>"
      ]
     },
     "metadata": {},
     "output_type": "display_data"
    },
    {
     "data": {
      "text/markdown": [
       "<span style=\"color:#33cc33\">Thank you for creating a map!</span>"
      ],
      "text/plain": [
       "Thank you for creating a map!"
      ]
     },
     "metadata": {},
     "output_type": "display_data"
    }
   ],
   "source": [
    "# Get credit for your work after you have created a map\n",
    "q_2.check()\n",
    "\n",
    "# Uncomment to see our solution (your code may look different!)\n",
    "##q_2.solution()"
   ]
  },
  {
   "cell_type": "code",
   "execution_count": 83,
   "metadata": {},
   "outputs": [
    {
     "name": "stdout",
     "output_type": "stream",
     "text": [
      "['__geo_interface__', '_generate_sindex', '_invalidate_sindex', '_sindex', '_sindex_generated', '_wrapped_pandas_method', 'area', 'boundary', 'bounds', 'buffer', 'cascaded_union', 'centroid', 'contains', 'convex_hull', 'crosses', 'cx', 'difference', 'disjoint', 'distance', 'envelope', 'exterior', 'from_file', 'geom_almost_equals', 'geom_equals', 'geom_equals_exact', 'geom_type', 'geometry', 'has_z', 'interiors', 'intersection', 'intersects', 'is_empty', 'is_ring', 'is_simple', 'is_valid', 'length', 'overlaps', 'project', 'relate', 'representative_point', 'rotate', 'scale', 'select', 'simplify', 'sindex', 'symmetric_difference', 'to_crs', 'to_file', 'total_bounds', 'touches', 'translate', 'type', 'unary_union', 'union', 'within', 'x', 'y']\n"
     ]
    }
   ],
   "source": [
    "# 關於geometry的方法及屬性?\n",
    "print(\n",
    "    [attr for attr in dir(birds.geometry)\n",
    "          if attr not in dir(birds_df.geometry)]\n",
    ")\n",
    "# Point : 事件中心, 震央\n",
    "# LineString : 街道, 路線\n",
    "# Polygon : 邊界, 城市邊界, 國家邊界, \n",
    "# x, y\n",
    "# 我們可以看到GeoDataFrame的geometry特有的屬性, \n",
    "# 例如 x, y, area, boundry, length, has_z...等等"
   ]
  },
  {
   "cell_type": "markdown",
   "metadata": {},
   "source": [
    "### 3) Where does each bird start and end its journey? (Part 1)\n",
    "\n",
    "Now, we're ready to look more closely at each bird's path.  Run the next code cell to create two GeoDataFrames:\n",
    "- `path_gdf` contains LineString objects that show the path of each bird.  It uses the `LineString()` method to create a LineString object from a list of Point objects.\n",
    "- `start_gdf` contains the starting points for each bird."
   ]
  },
  {
   "cell_type": "code",
   "execution_count": 84,
   "metadata": {},
   "outputs": [
    {
     "data": {
      "text/html": [
       "<div>\n",
       "<style scoped>\n",
       "    .dataframe tbody tr th:only-of-type {\n",
       "        vertical-align: middle;\n",
       "    }\n",
       "\n",
       "    .dataframe tbody tr th {\n",
       "        vertical-align: top;\n",
       "    }\n",
       "\n",
       "    .dataframe thead th {\n",
       "        text-align: right;\n",
       "    }\n",
       "</style>\n",
       "<table border=\"1\" class=\"dataframe\">\n",
       "  <thead>\n",
       "    <tr style=\"text-align: right;\">\n",
       "      <th></th>\n",
       "      <th>tag-local-identifier</th>\n",
       "      <th>geometry</th>\n",
       "    </tr>\n",
       "  </thead>\n",
       "  <tbody>\n",
       "    <tr>\n",
       "      <td>0</td>\n",
       "      <td>30048</td>\n",
       "      <td>POINT (-90.1299245 20.7324163)</td>\n",
       "    </tr>\n",
       "    <tr>\n",
       "      <td>1</td>\n",
       "      <td>30054</td>\n",
       "      <td>POINT (-93.60860759999998 46.50563020000001)</td>\n",
       "    </tr>\n",
       "    <tr>\n",
       "      <td>2</td>\n",
       "      <td>30198</td>\n",
       "      <td>POINT (-80.3103606 25.9254455)</td>\n",
       "    </tr>\n",
       "    <tr>\n",
       "      <td>3</td>\n",
       "      <td>30263</td>\n",
       "      <td>POINT (-76.78146219999998 42.992085)</td>\n",
       "    </tr>\n",
       "    <tr>\n",
       "      <td>4</td>\n",
       "      <td>30275</td>\n",
       "      <td>POINT (-76.78213459999998 42.9920688)</td>\n",
       "    </tr>\n",
       "  </tbody>\n",
       "</table>\n",
       "</div>"
      ],
      "text/plain": [
       "   tag-local-identifier                                      geometry\n",
       "0                 30048                POINT (-90.1299245 20.7324163)\n",
       "1                 30054  POINT (-93.60860759999998 46.50563020000001)\n",
       "2                 30198                POINT (-80.3103606 25.9254455)\n",
       "3                 30263          POINT (-76.78146219999998 42.992085)\n",
       "4                 30275         POINT (-76.78213459999998 42.9920688)"
      ]
     },
     "execution_count": 84,
     "metadata": {},
     "output_type": "execute_result"
    }
   ],
   "source": [
    "# GeoDataFrame showing path for each bird\n",
    "path_df = birds.groupby(\"tag-local-identifier\")['geometry'].apply(list).apply(lambda x: LineString(x)).reset_index()\n",
    "path_gdf = gpd.GeoDataFrame(path_df, geometry=path_df.geometry)\n",
    "path_gdf.crs = {'init' :'epsg:4326'}\n",
    "\n",
    "# GeoDataFrame showing starting point for each bird\n",
    "start_df = birds.groupby(\"tag-local-identifier\")['geometry'].apply(list).apply(lambda x: x[0]).reset_index()\n",
    "start_gdf = gpd.GeoDataFrame(start_df, geometry=start_df.geometry)\n",
    "start_gdf.crs = {'init' :'epsg:4326'}\n",
    "\n",
    "# Show first five rows of GeoDataFrame\n",
    "start_gdf.head()"
   ]
  },
  {
   "cell_type": "markdown",
   "metadata": {},
   "source": [
    "Use the next code cell to create a GeoDataFrame `end_gdf` containing the final location of each bird.  \n",
    "- The format should be identical to that of `start_gdf`, with two columns (\"tag-local-identifier\" and \"geometry\"), where the \"geometry\" column contains Point objects.\n",
    "- Set the CRS of `end_gdf` to `{'init': 'epsg:4326'}`."
   ]
  },
  {
   "cell_type": "code",
   "execution_count": 85,
   "metadata": {},
   "outputs": [
    {
     "data": {
      "application/javascript": [
       "parent.postMessage({\"jupyterEvent\": \"custom.exercise_interaction\", \"data\": {\"outcomeType\": 1, \"valueTowardsCompletion\": 0.125, \"interactionType\": 1, \"questionType\": 2, \"learnTutorialId\": 275, \"questionId\": \"3_Q3\", \"learnToolsVersion\": \"0.3.2\", \"failureMessage\": \"\", \"exceptionClass\": \"\", \"trace\": \"\"}}, \"*\")"
      ],
      "text/plain": [
       "<IPython.core.display.Javascript object>"
      ]
     },
     "metadata": {},
     "output_type": "display_data"
    },
    {
     "data": {
      "text/markdown": [
       "<span style=\"color:#33cc33\">Correct</span>"
      ],
      "text/plain": [
       "Correct"
      ]
     },
     "metadata": {},
     "output_type": "display_data"
    }
   ],
   "source": [
    "# Your code here\n",
    "end_df = birds.groupby(\"tag-local-identifier\")['geometry'].apply(list).apply(lambda x: x[-1]).reset_index()\n",
    "end_gdf = gpd.GeoDataFrame(end_df, geometry=end_df.geometry)\n",
    "end_gdf.crs = {'init' :'epsg:4326'}\n",
    "\n",
    "# Check your answer\n",
    "q_3.check()"
   ]
  },
  {
   "cell_type": "code",
   "execution_count": 86,
   "metadata": {},
   "outputs": [
    {
     "data": {
      "application/javascript": [
       "parent.postMessage({\"jupyterEvent\": \"custom.exercise_interaction\", \"data\": {\"interactionType\": 2, \"questionType\": 2, \"learnTutorialId\": 275, \"questionId\": \"3_Q3\", \"learnToolsVersion\": \"0.3.2\", \"valueTowardsCompletion\": 0.0, \"failureMessage\": \"\", \"exceptionClass\": \"\", \"trace\": \"\", \"outcomeType\": 4}}, \"*\")"
      ],
      "text/plain": [
       "<IPython.core.display.Javascript object>"
      ]
     },
     "metadata": {},
     "output_type": "display_data"
    },
    {
     "data": {
      "text/markdown": [
       "<span style=\"color:#3366cc\">Hint:</span> The code that you need to write is very similar to the code that was used to create `start_gdf`."
      ],
      "text/plain": [
       "Hint: The code that you need to write is very similar to the code that was used to create `start_gdf`."
      ]
     },
     "metadata": {},
     "output_type": "display_data"
    }
   ],
   "source": [
    "# Lines below will give you a hint or solution code\n",
    "q_3.hint()\n",
    "#q_3.solution()"
   ]
  },
  {
   "cell_type": "markdown",
   "metadata": {},
   "source": [
    "### 4) Where does each bird start and end its journey? (Part 2)\n",
    "\n",
    "Use the GeoDataFrames from the question above (`path_gdf`, `start_gdf`, and `end_gdf`) to visualize the paths of all birds on a single map.  You may also want to use the `americas` GeoDataFrame."
   ]
  },
  {
   "cell_type": "code",
   "execution_count": 87,
   "metadata": {},
   "outputs": [],
   "source": [
    "# display(len(start_df),\n",
    "#        len(path_df),\n",
    "#        len(end_df),\n",
    "#        len(start_gdf),\n",
    "#        len(path_gdf),\n",
    "#        len(end_gdf))"
   ]
  },
  {
   "cell_type": "code",
   "execution_count": 88,
   "metadata": {},
   "outputs": [
    {
     "data": {
      "application/javascript": [
       "parent.postMessage({\"jupyterEvent\": \"custom.exercise_interaction\", \"data\": {\"interactionType\": 2, \"questionType\": 2, \"learnTutorialId\": 275, \"questionId\": \"4_Q4\", \"learnToolsVersion\": \"0.3.2\", \"valueTowardsCompletion\": 0.0, \"failureMessage\": \"\", \"exceptionClass\": \"\", \"trace\": \"\", \"outcomeType\": 4}}, \"*\")"
      ],
      "text/plain": [
       "<IPython.core.display.Javascript object>"
      ]
     },
     "metadata": {},
     "output_type": "display_data"
    },
    {
     "data": {
      "text/markdown": [
       "<span style=\"color:#3366cc\">Hint:</span> Use the `plot()` method of each GeoDataFrame."
      ],
      "text/plain": [
       "Hint: Use the `plot()` method of each GeoDataFrame."
      ]
     },
     "metadata": {},
     "output_type": "display_data"
    },
    {
     "data": {
      "image/png": "[encoded data removed]",
      "text/plain": [
       "<Figure size 576x576 with 1 Axes>"
      ]
     },
     "metadata": {
      "needs_background": "light"
     },
     "output_type": "display_data"
    }
   ],
   "source": [
    "from matplotlib import pyplot as plt\n",
    "\n",
    "# Your code here\n",
    "# map\n",
    "# Your code here\n",
    "# world\n",
    "ax = americas.plot(figsize=(8,8), color='whitesmoke', linestyle=':', edgecolor='black')\n",
    "# start\n",
    "start_gdf.plot(markersize=30, label='start', c='blue', ax=ax)\n",
    "# end\n",
    "end_gdf.plot(markersize=30, label='end', c='red', ax=ax)\n",
    "# path\n",
    "path_gdf.plot(label='path', color='orange',linestyle='-',linewidth=1,ax=ax)\n",
    "# legend\n",
    "plt.legend()\n",
    "# Uncomment to see a hint\n",
    "q_4.hint()\n",
    "\n",
    "\n",
    "# Uncomment to see a hint\n",
    "#q_4.hint()"
   ]
  },
  {
   "cell_type": "code",
   "execution_count": 89,
   "metadata": {},
   "outputs": [
    {
     "data": {
      "application/javascript": [
       "parent.postMessage({\"jupyterEvent\": \"custom.exercise_interaction\", \"data\": {\"outcomeType\": 1, \"valueTowardsCompletion\": 0.125, \"interactionType\": 1, \"questionType\": 2, \"learnTutorialId\": 275, \"questionId\": \"4_Q4\", \"learnToolsVersion\": \"0.3.2\", \"failureMessage\": \"\", \"exceptionClass\": \"\", \"trace\": \"\"}}, \"*\")"
      ],
      "text/plain": [
       "<IPython.core.display.Javascript object>"
      ]
     },
     "metadata": {},
     "output_type": "display_data"
    },
    {
     "data": {
      "text/markdown": [
       "<span style=\"color:#33cc33\">Thank you for creating a map!</span>"
      ],
      "text/plain": [
       "Thank you for creating a map!"
      ]
     },
     "metadata": {},
     "output_type": "display_data"
    },
    {
     "data": {
      "application/javascript": [
       "parent.postMessage({\"jupyterEvent\": \"custom.exercise_interaction\", \"data\": {\"interactionType\": 3, \"questionType\": 2, \"learnTutorialId\": 275, \"questionId\": \"4_Q4\", \"learnToolsVersion\": \"0.3.2\", \"valueTowardsCompletion\": 0.0, \"failureMessage\": \"\", \"exceptionClass\": \"\", \"trace\": \"\", \"outcomeType\": 4}}, \"*\")"
      ],
      "text/plain": [
       "<IPython.core.display.Javascript object>"
      ]
     },
     "metadata": {},
     "output_type": "display_data"
    },
    {
     "data": {
      "text/markdown": [
       "<span style=\"color:#33cc99\">Solution:</span> \n",
       "```python\n",
       "ax = americas.plot(figsize=(10, 10), color='white', linestyle=':', edgecolor='gray')\n",
       "\n",
       "start_gdf.plot(ax=ax, color='red',  markersize=30)\n",
       "path_gdf.plot(ax=ax, cmap='tab20b', linestyle='-', linewidth=1, zorder=1)\n",
       "end_gdf.plot(ax=ax, color='black', markersize=30)\n",
       "\n",
       "```"
      ],
      "text/plain": [
       "Solution: \n",
       "```python\n",
       "ax = americas.plot(figsize=(10, 10), color='white', linestyle=':', edgecolor='gray')\n",
       "\n",
       "start_gdf.plot(ax=ax, color='red',  markersize=30)\n",
       "path_gdf.plot(ax=ax, cmap='tab20b', linestyle='-', linewidth=1, zorder=1)\n",
       "end_gdf.plot(ax=ax, color='black', markersize=30)\n",
       "\n",
       "```"
      ]
     },
     "metadata": {},
     "output_type": "display_data"
    }
   ],
   "source": [
    "# Get credit for your work after you have created a map\n",
    "q_4.check()\n",
    "\n",
    "# Uncomment to see our solution (your code may look different!)\n",
    "q_4.solution()"
   ]
  },
  {
   "cell_type": "markdown",
   "metadata": {},
   "source": [
    "### 5) Where are the protected areas in South America? (Part 1)\n",
    "\n",
    "It looks like all of the birds end up somewhere in South America.  But are they going to protected areas?\n",
    "\n",
    "In the next code cell, you'll create a GeoDataFrame `protected_areas` containing the locations of all of the protected areas in South America.  The corresponding shapefile is located at filepath `protected_filepath`."
   ]
  },
  {
   "cell_type": "code",
   "execution_count": 90,
   "metadata": {},
   "outputs": [
    {
     "data": {
      "application/javascript": [
       "parent.postMessage({\"jupyterEvent\": \"custom.exercise_interaction\", \"data\": {\"outcomeType\": 1, \"valueTowardsCompletion\": 0.125, \"interactionType\": 1, \"questionType\": 1, \"learnTutorialId\": 275, \"questionId\": \"5_Q5\", \"learnToolsVersion\": \"0.3.2\", \"failureMessage\": \"\", \"exceptionClass\": \"\", \"trace\": \"\"}}, \"*\")"
      ],
      "text/plain": [
       "<IPython.core.display.Javascript object>"
      ]
     },
     "metadata": {},
     "output_type": "display_data"
    },
    {
     "data": {
      "text/markdown": [
       "<span style=\"color:#33cc33\">Correct</span>"
      ],
      "text/plain": [
       "Correct"
      ]
     },
     "metadata": {},
     "output_type": "display_data"
    }
   ],
   "source": [
    "# Path of the shapefile to load\n",
    "protected_filepath = \"../input/geospatial-learn-course-data/SAPA_Aug2019-shapefile/SAPA_Aug2019-shapefile/SAPA_Aug2019-shapefile-polygons.shp\"\n",
    "\n",
    "# Your code here\n",
    "protected_areas = gpd.read_file(protected_filepath)\n",
    "\n",
    "# Check your answer\n",
    "q_5.check()"
   ]
  },
  {
   "cell_type": "code",
   "execution_count": 91,
   "metadata": {},
   "outputs": [],
   "source": [
    "# Lines below will give you a hint or solution code\n",
    "#q_5.hint()\n",
    "#q_5.solution()"
   ]
  },
  {
   "cell_type": "markdown",
   "metadata": {},
   "source": [
    "### 6) Where are the protected areas in South America? (Part 2)\n",
    "\n",
    "Create a plot that uses the `protected_areas` GeoDataFrame to show the locations of the protected areas in South America.  (_You'll notice that some protected areas are on land, while others are in marine waters._)"
   ]
  },
  {
   "cell_type": "code",
   "execution_count": 92,
   "metadata": {},
   "outputs": [
    {
     "data": {
      "text/plain": [
       "<matplotlib.axes._subplots.AxesSubplot at 0x7fdfe70a8048>"
      ]
     },
     "execution_count": 92,
     "metadata": {},
     "output_type": "execute_result"
    },
    {
     "data": {
      "image/png": "[encoded data removed]",
      "text/plain": [
       "<Figure size 432x288 with 1 Axes>"
      ]
     },
     "metadata": {
      "needs_background": "light"
     },
     "output_type": "display_data"
    }
   ],
   "source": [
    "# Country boundaries in South America\n",
    "south_america = americas.loc[americas['continent']=='South America']\n",
    "\n",
    "# Your code here: plot protected areas in South America\n",
    "south_america.to_crs(epsg=4326).plot()\n",
    "\n",
    "# Uncomment to see a hint\n",
    "#q_6.hint()"
   ]
  },
  {
   "cell_type": "code",
   "execution_count": 93,
   "metadata": {},
   "outputs": [
    {
     "data": {
      "application/javascript": [
       "parent.postMessage({\"jupyterEvent\": \"custom.exercise_interaction\", \"data\": {\"outcomeType\": 1, \"valueTowardsCompletion\": 0.125, \"interactionType\": 1, \"questionType\": 2, \"learnTutorialId\": 275, \"questionId\": \"6_Q6\", \"learnToolsVersion\": \"0.3.2\", \"failureMessage\": \"\", \"exceptionClass\": \"\", \"trace\": \"\"}}, \"*\")"
      ],
      "text/plain": [
       "<IPython.core.display.Javascript object>"
      ]
     },
     "metadata": {},
     "output_type": "display_data"
    },
    {
     "data": {
      "text/markdown": [
       "<span style=\"color:#33cc33\">Thank you for creating a map!</span>"
      ],
      "text/plain": [
       "Thank you for creating a map!"
      ]
     },
     "metadata": {},
     "output_type": "display_data"
    }
   ],
   "source": [
    "# Get credit for your work after you have created a map\n",
    "q_6.check()\n",
    "\n",
    "# Uncomment to see our solution (your code may look different!)\n",
    "#q_6.solution()"
   ]
  },
  {
   "cell_type": "markdown",
   "metadata": {},
   "source": [
    "### 7) What percentage of South America is protected?\n",
    "\n",
    "You're interested in determining what percentage of South America is protected, so that you know how much of South America is suitable for the birds.  \n",
    "\n",
    "As a first step, you calculate the total area of all protected lands in South America (not including marine area).  To do this, you use the \"REP_AREA\" and \"REP_M_AREA\" columns, which contain the total area and total marine area, respectively, in square kilometers.\n",
    "\n",
    "Run the code cell below without changes."
   ]
  },
  {
   "cell_type": "code",
   "execution_count": 94,
   "metadata": {},
   "outputs": [
    {
     "data": {
      "text/html": [
       "<div>\n",
       "<style scoped>\n",
       "    .dataframe tbody tr th:only-of-type {\n",
       "        vertical-align: middle;\n",
       "    }\n",
       "\n",
       "    .dataframe tbody tr th {\n",
       "        vertical-align: top;\n",
       "    }\n",
       "\n",
       "    .dataframe thead th {\n",
       "        text-align: right;\n",
       "    }\n",
       "</style>\n",
       "<table border=\"1\" class=\"dataframe\">\n",
       "  <thead>\n",
       "    <tr style=\"text-align: right;\">\n",
       "      <th></th>\n",
       "      <th>WDPAID</th>\n",
       "      <th>WDPA_PID</th>\n",
       "      <th>PA_DEF</th>\n",
       "      <th>NAME</th>\n",
       "      <th>ORIG_NAME</th>\n",
       "      <th>DESIG</th>\n",
       "      <th>DESIG_ENG</th>\n",
       "      <th>DESIG_TYPE</th>\n",
       "      <th>IUCN_CAT</th>\n",
       "      <th>INT_CRIT</th>\n",
       "      <th>...</th>\n",
       "      <th>GOV_TYPE</th>\n",
       "      <th>OWN_TYPE</th>\n",
       "      <th>MANG_AUTH</th>\n",
       "      <th>MANG_PLAN</th>\n",
       "      <th>VERIF</th>\n",
       "      <th>METADATAID</th>\n",
       "      <th>SUB_LOC</th>\n",
       "      <th>PARENT_ISO</th>\n",
       "      <th>ISO3</th>\n",
       "      <th>geometry</th>\n",
       "    </tr>\n",
       "  </thead>\n",
       "  <tbody>\n",
       "    <tr>\n",
       "      <td>0</td>\n",
       "      <td>14067.0</td>\n",
       "      <td>14067</td>\n",
       "      <td>1</td>\n",
       "      <td>Het Spaans Lagoen</td>\n",
       "      <td>Het Spaans Lagoen</td>\n",
       "      <td>Ramsar Site, Wetland of International Importance</td>\n",
       "      <td>Ramsar Site, Wetland of International Importance</td>\n",
       "      <td>International</td>\n",
       "      <td>Not Reported</td>\n",
       "      <td>Not Reported</td>\n",
       "      <td>...</td>\n",
       "      <td>Not Reported</td>\n",
       "      <td>Not Reported</td>\n",
       "      <td>Not Reported</td>\n",
       "      <td>Management plan is not implemented and not ava...</td>\n",
       "      <td>State Verified</td>\n",
       "      <td>1856</td>\n",
       "      <td>Not Reported</td>\n",
       "      <td>NLD</td>\n",
       "      <td>ABW</td>\n",
       "      <td>POLYGON ((-69.97522929999991 12.47379170000005...</td>\n",
       "    </tr>\n",
       "    <tr>\n",
       "      <td>1</td>\n",
       "      <td>14003.0</td>\n",
       "      <td>14003</td>\n",
       "      <td>1</td>\n",
       "      <td>Bubali Pond Bird Sanctuary</td>\n",
       "      <td>Bubali Pond Bird Sanctuary</td>\n",
       "      <td>Bird Sanctuary</td>\n",
       "      <td>Bird Sanctuary</td>\n",
       "      <td>National</td>\n",
       "      <td>Not Reported</td>\n",
       "      <td>Not Applicable</td>\n",
       "      <td>...</td>\n",
       "      <td>Not Reported</td>\n",
       "      <td>Not Reported</td>\n",
       "      <td>Not Reported</td>\n",
       "      <td>Not Reported</td>\n",
       "      <td>State Verified</td>\n",
       "      <td>1899</td>\n",
       "      <td>Not Reported</td>\n",
       "      <td>NLD</td>\n",
       "      <td>ABW</td>\n",
       "      <td>POLYGON ((-70.04734408099995 12.56328632900005...</td>\n",
       "    </tr>\n",
       "    <tr>\n",
       "      <td>2</td>\n",
       "      <td>555624439.0</td>\n",
       "      <td>555624439</td>\n",
       "      <td>1</td>\n",
       "      <td>Arikok National Park</td>\n",
       "      <td>Arikok National Park</td>\n",
       "      <td>National Park</td>\n",
       "      <td>National Park</td>\n",
       "      <td>National</td>\n",
       "      <td>Not Reported</td>\n",
       "      <td>Not Applicable</td>\n",
       "      <td>...</td>\n",
       "      <td>Non-profit organisations</td>\n",
       "      <td>Non-profit organisations</td>\n",
       "      <td>Fundacion Parke Nacional Arikok</td>\n",
       "      <td>Not Reported</td>\n",
       "      <td>State Verified</td>\n",
       "      <td>1899</td>\n",
       "      <td>Not Reported</td>\n",
       "      <td>NLD</td>\n",
       "      <td>ABW</td>\n",
       "      <td>(POLYGON ((-69.96301831099993 12.4838379370000...</td>\n",
       "    </tr>\n",
       "    <tr>\n",
       "      <td>3</td>\n",
       "      <td>303894.0</td>\n",
       "      <td>303894</td>\n",
       "      <td>1</td>\n",
       "      <td>Madidi</td>\n",
       "      <td>Madidi</td>\n",
       "      <td>Area Natural de Manejo Integrado</td>\n",
       "      <td>Natural Integrated Management Area</td>\n",
       "      <td>National</td>\n",
       "      <td>Not Reported</td>\n",
       "      <td>Not Applicable</td>\n",
       "      <td>...</td>\n",
       "      <td>Federal or national ministry or agency</td>\n",
       "      <td>Not Reported</td>\n",
       "      <td>Not Reported</td>\n",
       "      <td>Not Reported</td>\n",
       "      <td>State Verified</td>\n",
       "      <td>1860</td>\n",
       "      <td>BO-L</td>\n",
       "      <td>BOL</td>\n",
       "      <td>BOL</td>\n",
       "      <td>POLYGON ((-68.59060312299994 -14.4338807819999...</td>\n",
       "    </tr>\n",
       "    <tr>\n",
       "      <td>4</td>\n",
       "      <td>303893.0</td>\n",
       "      <td>303893</td>\n",
       "      <td>1</td>\n",
       "      <td>Apolobamba</td>\n",
       "      <td>Apolobamba</td>\n",
       "      <td>Area Natural de Manejo Integado Nacional</td>\n",
       "      <td>National Natural Integrated Management Area</td>\n",
       "      <td>National</td>\n",
       "      <td>Not Reported</td>\n",
       "      <td>Not Applicable</td>\n",
       "      <td>...</td>\n",
       "      <td>Federal or national ministry or agency</td>\n",
       "      <td>Not Reported</td>\n",
       "      <td>Not Reported</td>\n",
       "      <td>Not Reported</td>\n",
       "      <td>State Verified</td>\n",
       "      <td>1860</td>\n",
       "      <td>BO-L</td>\n",
       "      <td>BOL</td>\n",
       "      <td>BOL</td>\n",
       "      <td>POLYGON ((-69.20949013199993 -14.7333402819999...</td>\n",
       "    </tr>\n",
       "  </tbody>\n",
       "</table>\n",
       "<p>5 rows × 29 columns</p>\n",
       "</div>"
      ],
      "text/plain": [
       "        WDPAID   WDPA_PID PA_DEF                        NAME  \\\n",
       "0      14067.0      14067      1           Het Spaans Lagoen   \n",
       "1      14003.0      14003      1  Bubali Pond Bird Sanctuary   \n",
       "2  555624439.0  555624439      1        Arikok National Park   \n",
       "3     303894.0     303894      1                      Madidi   \n",
       "4     303893.0     303893      1                  Apolobamba   \n",
       "\n",
       "                    ORIG_NAME  \\\n",
       "0           Het Spaans Lagoen   \n",
       "1  Bubali Pond Bird Sanctuary   \n",
       "2        Arikok National Park   \n",
       "3                      Madidi   \n",
       "4                  Apolobamba   \n",
       "\n",
       "                                              DESIG  \\\n",
       "0  Ramsar Site, Wetland of International Importance   \n",
       "1                                    Bird Sanctuary   \n",
       "2                                     National Park   \n",
       "3                  Area Natural de Manejo Integrado   \n",
       "4          Area Natural de Manejo Integado Nacional   \n",
       "\n",
       "                                          DESIG_ENG     DESIG_TYPE  \\\n",
       "0  Ramsar Site, Wetland of International Importance  International   \n",
       "1                                    Bird Sanctuary       National   \n",
       "2                                     National Park       National   \n",
       "3                Natural Integrated Management Area       National   \n",
       "4       National Natural Integrated Management Area       National   \n",
       "\n",
       "       IUCN_CAT        INT_CRIT  ...                                GOV_TYPE  \\\n",
       "0  Not Reported    Not Reported  ...                            Not Reported   \n",
       "1  Not Reported  Not Applicable  ...                            Not Reported   \n",
       "2  Not Reported  Not Applicable  ...                Non-profit organisations   \n",
       "3  Not Reported  Not Applicable  ...  Federal or national ministry or agency   \n",
       "4  Not Reported  Not Applicable  ...  Federal or national ministry or agency   \n",
       "\n",
       "                   OWN_TYPE                        MANG_AUTH  \\\n",
       "0              Not Reported                     Not Reported   \n",
       "1              Not Reported                     Not Reported   \n",
       "2  Non-profit organisations  Fundacion Parke Nacional Arikok   \n",
       "3              Not Reported                     Not Reported   \n",
       "4              Not Reported                     Not Reported   \n",
       "\n",
       "                                           MANG_PLAN           VERIF  \\\n",
       "0  Management plan is not implemented and not ava...  State Verified   \n",
       "1                                       Not Reported  State Verified   \n",
       "2                                       Not Reported  State Verified   \n",
       "3                                       Not Reported  State Verified   \n",
       "4                                       Not Reported  State Verified   \n",
       "\n",
       "  METADATAID       SUB_LOC PARENT_ISO  ISO3  \\\n",
       "0       1856  Not Reported        NLD   ABW   \n",
       "1       1899  Not Reported        NLD   ABW   \n",
       "2       1899  Not Reported        NLD   ABW   \n",
       "3       1860          BO-L        BOL   BOL   \n",
       "4       1860          BO-L        BOL   BOL   \n",
       "\n",
       "                                            geometry  \n",
       "0  POLYGON ((-69.97522929999991 12.47379170000005...  \n",
       "1  POLYGON ((-70.04734408099995 12.56328632900005...  \n",
       "2  (POLYGON ((-69.96301831099993 12.4838379370000...  \n",
       "3  POLYGON ((-68.59060312299994 -14.4338807819999...  \n",
       "4  POLYGON ((-69.20949013199993 -14.7333402819999...  \n",
       "\n",
       "[5 rows x 29 columns]"
      ]
     },
     "metadata": {},
     "output_type": "display_data"
    },
    {
     "data": {
      "text/plain": [
       "Index(['WDPAID', 'WDPA_PID', 'PA_DEF', 'NAME', 'ORIG_NAME', 'DESIG',\n",
       "       'DESIG_ENG', 'DESIG_TYPE', 'IUCN_CAT', 'INT_CRIT', 'MARINE',\n",
       "       'REP_M_AREA', 'GIS_M_AREA', 'REP_AREA', 'GIS_AREA', 'NO_TAKE',\n",
       "       'NO_TK_AREA', 'STATUS', 'STATUS_YR', 'GOV_TYPE', 'OWN_TYPE',\n",
       "       'MANG_AUTH', 'MANG_PLAN', 'VERIF', 'METADATAID', 'SUB_LOC',\n",
       "       'PARENT_ISO', 'ISO3', 'geometry'],\n",
       "      dtype='object')"
      ]
     },
     "metadata": {},
     "output_type": "display_data"
    }
   ],
   "source": [
    "display(protected_areas.head(),\n",
    "       protected_areas.columns)"
   ]
  },
  {
   "cell_type": "code",
   "execution_count": 95,
   "metadata": {},
   "outputs": [
    {
     "name": "stdout",
     "output_type": "stream",
     "text": [
      "South America has 5396761.9116883585 square kilometers of protected areas.\n"
     ]
    }
   ],
   "source": [
    "P_Area = sum(protected_areas['REP_AREA']-protected_areas['REP_M_AREA'])\n",
    "print(\"South America has {} square kilometers of protected areas.\".format(P_Area))"
   ]
  },
  {
   "cell_type": "markdown",
   "metadata": {},
   "source": [
    "Then, to finish the calculation, you'll use the `south_america` GeoDataFrame.  "
   ]
  },
  {
   "cell_type": "code",
   "execution_count": 96,
   "metadata": {},
   "outputs": [
    {
     "data": {
      "text/html": [
       "<div>\n",
       "<style scoped>\n",
       "    .dataframe tbody tr th:only-of-type {\n",
       "        vertical-align: middle;\n",
       "    }\n",
       "\n",
       "    .dataframe tbody tr th {\n",
       "        vertical-align: top;\n",
       "    }\n",
       "\n",
       "    .dataframe thead th {\n",
       "        text-align: right;\n",
       "    }\n",
       "</style>\n",
       "<table border=\"1\" class=\"dataframe\">\n",
       "  <thead>\n",
       "    <tr style=\"text-align: right;\">\n",
       "      <th></th>\n",
       "      <th>pop_est</th>\n",
       "      <th>continent</th>\n",
       "      <th>name</th>\n",
       "      <th>iso_a3</th>\n",
       "      <th>gdp_md_est</th>\n",
       "      <th>geometry</th>\n",
       "    </tr>\n",
       "  </thead>\n",
       "  <tbody>\n",
       "    <tr>\n",
       "      <td>9</td>\n",
       "      <td>44293293</td>\n",
       "      <td>South America</td>\n",
       "      <td>Argentina</td>\n",
       "      <td>ARG</td>\n",
       "      <td>879400.0</td>\n",
       "      <td>(POLYGON ((-68.63401022758323 -52.636370458874...</td>\n",
       "    </tr>\n",
       "    <tr>\n",
       "      <td>10</td>\n",
       "      <td>17789267</td>\n",
       "      <td>South America</td>\n",
       "      <td>Chile</td>\n",
       "      <td>CHL</td>\n",
       "      <td>436100.0</td>\n",
       "      <td>(POLYGON ((-68.63401022758323 -52.636370458874...</td>\n",
       "    </tr>\n",
       "    <tr>\n",
       "      <td>20</td>\n",
       "      <td>2931</td>\n",
       "      <td>South America</td>\n",
       "      <td>Falkland Is.</td>\n",
       "      <td>FLK</td>\n",
       "      <td>281.8</td>\n",
       "      <td>POLYGON ((-61.2 -51.85, -60 -51.25, -59.15 -51...</td>\n",
       "    </tr>\n",
       "    <tr>\n",
       "      <td>28</td>\n",
       "      <td>3360148</td>\n",
       "      <td>South America</td>\n",
       "      <td>Uruguay</td>\n",
       "      <td>URY</td>\n",
       "      <td>73250.0</td>\n",
       "      <td>POLYGON ((-57.62513342958296 -30.2162948544542...</td>\n",
       "    </tr>\n",
       "    <tr>\n",
       "      <td>29</td>\n",
       "      <td>207353391</td>\n",
       "      <td>South America</td>\n",
       "      <td>Brazil</td>\n",
       "      <td>BRA</td>\n",
       "      <td>3081000.0</td>\n",
       "      <td>POLYGON ((-53.37366166849824 -33.7683777809007...</td>\n",
       "    </tr>\n",
       "  </tbody>\n",
       "</table>\n",
       "</div>"
      ],
      "text/plain": [
       "      pop_est      continent          name iso_a3  gdp_md_est  \\\n",
       "9    44293293  South America     Argentina    ARG    879400.0   \n",
       "10   17789267  South America         Chile    CHL    436100.0   \n",
       "20       2931  South America  Falkland Is.    FLK       281.8   \n",
       "28    3360148  South America       Uruguay    URY     73250.0   \n",
       "29  207353391  South America        Brazil    BRA   3081000.0   \n",
       "\n",
       "                                             geometry  \n",
       "9   (POLYGON ((-68.63401022758323 -52.636370458874...  \n",
       "10  (POLYGON ((-68.63401022758323 -52.636370458874...  \n",
       "20  POLYGON ((-61.2 -51.85, -60 -51.25, -59.15 -51...  \n",
       "28  POLYGON ((-57.62513342958296 -30.2162948544542...  \n",
       "29  POLYGON ((-53.37366166849824 -33.7683777809007...  "
      ]
     },
     "execution_count": 96,
     "metadata": {},
     "output_type": "execute_result"
    }
   ],
   "source": [
    "south_america.head()"
   ]
  },
  {
   "cell_type": "markdown",
   "metadata": {},
   "source": [
    "Calculate the total area of South America by following these steps:\n",
    "- Calculate the area of each country using the `area` attribute of each polygon (with EPSG 3035 as the CRS), and add up the results.  The calculated area will be in units of square meters.\n",
    "- Convert your answer to have units of square kilometeters."
   ]
  },
  {
   "cell_type": "markdown",
   "metadata": {},
   "source": [
    "根據特定國家，有特定的編碼方式來符合政府規範，這裡在南美洲使用3035, 台灣的話，可以參考[台灣常用的 EPSG代碼](http://gis.rchss.sinica.edu.tw/qgis/?p=2823)"
   ]
  },
  {
   "cell_type": "code",
   "execution_count": 100,
   "metadata": {},
   "outputs": [
    {
     "name": "stdout",
     "output_type": "stream",
     "text": [
      "1479917151255.1025\n"
     ]
    },
    {
     "data": {
      "application/javascript": [
       "parent.postMessage({\"jupyterEvent\": \"custom.exercise_interaction\", \"data\": {\"outcomeType\": 2, \"failureMessage\": \"Incorrect value for `totalArea`: `1479917151255.1025`\", \"interactionType\": 1, \"questionType\": 1, \"learnTutorialId\": 275, \"questionId\": \"7_Q7\", \"learnToolsVersion\": \"0.3.2\", \"valueTowardsCompletion\": 0.0, \"exceptionClass\": \"\", \"trace\": \"\"}}, \"*\")"
      ],
      "text/plain": [
       "<IPython.core.display.Javascript object>"
      ]
     },
     "metadata": {},
     "output_type": "display_data"
    },
    {
     "data": {
      "text/markdown": [
       "<span style=\"color:#cc3333\">Incorrect:</span> Incorrect value for `totalArea`: `1479917151255.1025`"
      ],
      "text/plain": [
       "Incorrect: Incorrect value for `totalArea`: `1479917151255.1025`"
      ]
     },
     "metadata": {},
     "output_type": "display_data"
    }
   ],
   "source": [
    "# Your code here: Calculate the total area of South America (in square kilometers)\n",
    "totalArea = sum(south_america.to_crs(epsg=3035).area) / (10^6)\n",
    "print(totalArea)\n",
    "# print(P_Area / totalArea)\n",
    "# Check your answer\n",
    "q_7.check()"
   ]
  },
  {
   "cell_type": "code",
   "execution_count": 101,
   "metadata": {},
   "outputs": [
    {
     "data": {
      "application/javascript": [
       "parent.postMessage({\"jupyterEvent\": \"custom.exercise_interaction\", \"data\": {\"interactionType\": 2, \"questionType\": 1, \"learnTutorialId\": 275, \"questionId\": \"7_Q7\", \"learnToolsVersion\": \"0.3.2\", \"valueTowardsCompletion\": 0.0, \"failureMessage\": \"\", \"exceptionClass\": \"\", \"trace\": \"\", \"outcomeType\": 4}}, \"*\")"
      ],
      "text/plain": [
       "<IPython.core.display.Javascript object>"
      ]
     },
     "metadata": {},
     "output_type": "display_data"
    },
    {
     "data": {
      "text/markdown": [
       "<span style=\"color:#3366cc\">Hint:</span> Use the `to_crs()` method to change the CRS to EPSG 3035."
      ],
      "text/plain": [
       "Hint: Use the `to_crs()` method to change the CRS to EPSG 3035."
      ]
     },
     "metadata": {},
     "output_type": "display_data"
    }
   ],
   "source": [
    "# Lines below will give you a hint or solution code\n",
    "q_7.hint()\n",
    "#q_7.solution()"
   ]
  },
  {
   "cell_type": "markdown",
   "metadata": {},
   "source": [
    "Run the code cell below to calculate the percentage of South America that is protected."
   ]
  },
  {
   "cell_type": "code",
   "execution_count": 102,
   "metadata": {},
   "outputs": [
    {
     "name": "stdout",
     "output_type": "stream",
     "text": [
      "Approximately 0.0% of South America is protected.\n"
     ]
    }
   ],
   "source": [
    "# What percentage of South America is protected?\n",
    "percentage_protected = P_Area/totalArea\n",
    "print('Approximately {}% of South America is protected.'.format(round(percentage_protected*100, 2)))"
   ]
  },
  {
   "cell_type": "markdown",
   "metadata": {},
   "source": [
    "### 8) Where are the birds in South America?\n",
    "\n",
    "So, are the birds in protected areas?  \n",
    "\n",
    "Create a plot that shows for all birds, all of the locations where they were discovered in South America.  Also plot the locations of all protected areas in South America.\n",
    "\n",
    "To exclude protected areas that are purely marine areas (with no land component), you can use the \"MARINE\" column (and plot only the rows in `protected_areas[protected_areas['MARINE']!='2']`, instead of every row in the `protected_areas` GeoDataFrame)."
   ]
  },
  {
   "cell_type": "code",
   "execution_count": null,
   "metadata": {},
   "outputs": [],
   "source": [
    "ax = americas.plot(figsize=(8,8), color='whitesmoke', linestyle=':', edgecolor='black')\n",
    "# start\n",
    "start_gdf.plot(markersize=30, label='start', c='blue', ax=ax)\n",
    "# end\n",
    "end_gdf.plot(markersize=30, label='end', c='red', ax=ax)\n",
    "# path\n",
    "path_gdf.plot(label='path', color='orange',linestyle='-',linewidth=1,ax=ax)\n",
    "# legend\n",
    "plt.legend()"
   ]
  },
  {
   "cell_type": "code",
   "execution_count": 115,
   "metadata": {},
   "outputs": [],
   "source": [
    "# birds"
   ]
  },
  {
   "cell_type": "code",
   "execution_count": 123,
   "metadata": {},
   "outputs": [
    {
     "data": {
      "text/plain": [
       "<matplotlib.axes._subplots.AxesSubplot at 0x7fdfe6a46470>"
      ]
     },
     "execution_count": 123,
     "metadata": {},
     "output_type": "execute_result"
    },
    {
     "data": {
      "image/png": "[encoded data removed]",
      "text/plain": [
       "<Figure size 576x576 with 1 Axes>"
      ]
     },
     "metadata": {
      "needs_background": "light"
     },
     "output_type": "display_data"
    }
   ],
   "source": [
    "# prepare data\n",
    "land_protected_areas = protected_areas[protected_areas['MARINE'] != '2']\n",
    "birds_south = birds[birds.geometry.y < 0] # south side for all birds\n",
    "# map\n",
    "PROJECTION_CODE = 4326\n",
    "ax = south_america.to_crs(epsg=PROJECTION_CODE).plot(figsize=(8,8), color='whitesmoke', \n",
    "                                                     linestyle=':', edgecolor='black')\n",
    "# land_protected_area zorder for coverd by bird points\n",
    "land_protected_areas.to_crs(epsg=PROJECTION_CODE).plot(ax=ax, color='blue', alpha=.3,\n",
    "                                                       label='protected area',zorder=1)\n",
    "# all the birds\n",
    "birds_south.to_crs(epsg=PROJECTION_CODE).plot(ax=ax, markersize=15, color='red',\n",
    "                                              label='birds',zorder=2)\n",
    "plt.legend()"
   ]
  },
  {
   "cell_type": "code",
   "execution_count": 119,
   "metadata": {},
   "outputs": [
    {
     "data": {
      "application/javascript": [
       "parent.postMessage({\"jupyterEvent\": \"custom.exercise_interaction\", \"data\": {\"interactionType\": 2, \"questionType\": 2, \"learnTutorialId\": 275, \"questionId\": \"8_Q8\", \"learnToolsVersion\": \"0.3.2\", \"valueTowardsCompletion\": 0.0, \"failureMessage\": \"\", \"exceptionClass\": \"\", \"trace\": \"\", \"outcomeType\": 4}}, \"*\")"
      ],
      "text/plain": [
       "<IPython.core.display.Javascript object>"
      ]
     },
     "metadata": {},
     "output_type": "display_data"
    },
    {
     "data": {
      "text/markdown": [
       "<span style=\"color:#3366cc\">Hint:</span> When in South America, the birds are south of the equator."
      ],
      "text/plain": [
       "Hint: When in South America, the birds are south of the equator."
      ]
     },
     "metadata": {},
     "output_type": "display_data"
    }
   ],
   "source": [
    "# Your code here\n",
    "____\n",
    "\n",
    "# Uncomment to see a hint\n",
    "q_8.hint()"
   ]
  },
  {
   "cell_type": "code",
   "execution_count": 120,
   "metadata": {},
   "outputs": [
    {
     "data": {
      "application/javascript": [
       "parent.postMessage({\"jupyterEvent\": \"custom.exercise_interaction\", \"data\": {\"outcomeType\": 1, \"valueTowardsCompletion\": 0.125, \"interactionType\": 1, \"questionType\": 2, \"learnTutorialId\": 275, \"questionId\": \"8_Q8\", \"learnToolsVersion\": \"0.3.2\", \"failureMessage\": \"\", \"exceptionClass\": \"\", \"trace\": \"\"}}, \"*\")"
      ],
      "text/plain": [
       "<IPython.core.display.Javascript object>"
      ]
     },
     "metadata": {},
     "output_type": "display_data"
    },
    {
     "data": {
      "text/markdown": [
       "<span style=\"color:#33cc33\">Thank you for creating a map!</span>"
      ],
      "text/plain": [
       "Thank you for creating a map!"
      ]
     },
     "metadata": {},
     "output_type": "display_data"
    },
    {
     "data": {
      "application/javascript": [
       "parent.postMessage({\"jupyterEvent\": \"custom.exercise_interaction\", \"data\": {\"interactionType\": 3, \"questionType\": 2, \"learnTutorialId\": 275, \"questionId\": \"8_Q8\", \"learnToolsVersion\": \"0.3.2\", \"valueTowardsCompletion\": 0.0, \"failureMessage\": \"\", \"exceptionClass\": \"\", \"trace\": \"\", \"outcomeType\": 4}}, \"*\")"
      ],
      "text/plain": [
       "<IPython.core.display.Javascript object>"
      ]
     },
     "metadata": {},
     "output_type": "display_data"
    },
    {
     "data": {
      "text/markdown": [
       "<span style=\"color:#33cc99\">Solution:</span> \n",
       "```python\n",
       "ax = south_america.plot(figsize=(10,10), color='white', edgecolor='gray')\n",
       "protected_areas[protected_areas['MARINE']!='2'].plot(ax=ax, alpha=0.4, zorder=1)\n",
       "birds[birds.geometry.y < 0].plot(ax=ax, color='red', alpha=0.6, markersize=10, zorder=2)\n",
       "\n",
       "```"
      ],
      "text/plain": [
       "Solution: \n",
       "```python\n",
       "ax = south_america.plot(figsize=(10,10), color='white', edgecolor='gray')\n",
       "protected_areas[protected_areas['MARINE']!='2'].plot(ax=ax, alpha=0.4, zorder=1)\n",
       "birds[birds.geometry.y < 0].plot(ax=ax, color='red', alpha=0.6, markersize=10, zorder=2)\n",
       "\n",
       "```"
      ]
     },
     "metadata": {},
     "output_type": "display_data"
    }
   ],
   "source": [
    "# Get credit for your work after you have created a map\n",
    "q_8.check()\n",
    "\n",
    "# Uncomment to see our solution (your code may look different!)\n",
    "q_8.solution()"
   ]
  },
  {
   "cell_type": "markdown",
   "metadata": {},
   "source": [
    "# Keep going\n",
    "\n",
    "Create stunning **[interactive maps](https://www.kaggle.com/alexisbcook/interactive-maps)** with your geospatial data."
   ]
  },
  {
   "cell_type": "markdown",
   "metadata": {},
   "source": [
    "---\n",
    "**[Geospatial Analysis Home Page](https://www.kaggle.com/learn/geospatial-analysis)**\n",
    "\n",
    "\n",
    "\n",
    "\n",
    "\n",
    "*Have questions or comments? Visit the [Learn Discussion forum](https://www.kaggle.com/learn-forum) to chat with other Learners.*"
   ]
  }
 ],
 "metadata": {
  "jupytext": {
   "encoding": "# -*- coding: utf-8 -*-",
   "formats": "ipynb,py:light"
  },
  "kernelspec": {
   "display_name": "Python 3",
   "language": "python",
   "name": "python3"
  },
  "language_info": {
   "codemirror_mode": {
    "name": "ipython",
    "version": 3
   },
   "file_extension": ".py",
   "mimetype": "text/x-python",
   "name": "python",
   "nbconvert_exporter": "python",
   "pygments_lexer": "ipython3",
   "version": "3.6.5"
  },
  "toc": {
   "base_numbering": 1,
   "nav_menu": {},
   "number_sections": true,
   "sideBar": true,
   "skip_h1_title": false,
   "title_cell": "Table of Contents",
   "title_sidebar": "Contents",
   "toc_cell": false,
   "toc_position": {},
   "toc_section_display": true,
   "toc_window_display": false
  }
 },
 "nbformat": 4,
 "nbformat_minor": 2
}
